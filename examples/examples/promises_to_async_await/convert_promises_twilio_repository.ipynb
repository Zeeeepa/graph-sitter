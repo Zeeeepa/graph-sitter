{
 "cells": [
  {
   "cell_type": "markdown",
   "metadata": {},
   "source": [
    "# Convert Promises to Async/Await in the Twilio Node.js Client Library using Codegen\n",
    "\n",
    "This notebook will show you how to convert a repeated use of a promise chain to async await \n",
    "in the official twilio js client library twilio/twilio-node repository.\n",
    "\n",
    "1. Finds all methods containing operationPromise.then chains\n",
    "2. Converts the promise chain to use async await\n",
    "3. Gets rid of the callback handler by adding try catch directly in the function body"
   ]
  },
  {
   "cell_type": "code",
   "execution_count": null,
   "metadata": {},
   "outputs": [],
   "source": [
    "from codegen import Codebase\n",
    "from codegen.sdk.enums import ProgrammingLanguage\n",
    "from codegen.sdk.core.statements.statement import StatementType"
   ]
  },
  {
   "cell_type": "code",
   "execution_count": null,
   "metadata": {},
   "outputs": [],
   "source": [
    "print(\"Initializing codebase...\")\n",
    "codebase = Codebase(\"twilio/twilio-node\", programming_language=ProgrammingLanguage.TYPESCRIPT)\n",
    "print(\"Twilio repository initialized!\")"
   ]
  },
  {
   "cell_type": "markdown",
   "metadata": {},
   "source": [
    "### 1. Find all Promise Chains in class methods with the base call being `operationPromise.then`"
   ]
  },
  {
   "cell_type": "code",
   "execution_count": null,
   "metadata": {},
   "outputs": [],
   "source": [
    "# loop through all files -> classes -> methods to find promise the operationPromise chains\n",
    "operation_promise_chains = []\n",
    "unique_files = set()\n",
    "\n",
    "i = 0\n",
    "\n",
    "for _class in codebase.classes:\n",
    "    for method in _class.methods:\n",
    "        if method.name in [\"each\", \"setPromiseCallback\"]:\n",
    "            print(\"skipping method\", method.name, \"...\")\n",
    "            continue\n",
    "\n",
    "        # Only process methods containing operationPromise\n",
    "        if not method.find(\"operationPromise\"):\n",
    "            continue\n",
    "\n",
    "        # Find the first promise chain with then blocks\n",
    "        for promise_chain in method.promise_chains:\n",
    "            promise_statement = promise_chain.parent_statement\n",
    "            operation_promise_chains.append({\"function_name\": method.name, \"promise_chain\": promise_chain, \"promise_statement\": promise_statement})\n",
    "            unique_files.add(method.file.filepath)\n",
    "            i += 1\n",
    "            if i < 10:\n",
    "                print(f\"Found operation promise in the {method.name} method in {method.file.filepath} file.\")"
   ]
  },
  {
   "cell_type": "code",
   "execution_count": null,
   "metadata": {},
   "outputs": [],
   "source": [
    "print(\"Number of Operation Promise Chains found:\", len(operation_promise_chains))\n",
    "print(\"Number of files affected:\", len(unique_files))"
   ]
  },
  {
   "cell_type": "markdown",
   "metadata": {},
   "source": [
    "### 2. Convert *all* 592 Promise Chains to Async/Await  \n",
    "\n",
    "*Additionally...* Add a Try/Catch to Eliminate the Callback Handler"
   ]
  },
  {
   "cell_type": "code",
   "execution_count": null,
   "metadata": {},
   "outputs": [],
   "source": [
    "i = 0\n",
    "assignment_variable_name = \"operation\"\n",
    "\n",
    "for promise_chain_dict in operation_promise_chains:\n",
    "    promise_chain = promise_chain_dict[\"promise_chain\"]\n",
    "    promise_statement = promise_chain_dict[\"promise_statement\"]\n",
    "    function_name = promise_chain_dict[\"function_name\"]\n",
    "    # ---------- CONVERT PROMISE CHAIN TO ASYNC AWAIT ----------\n",
    "    async_await_code = promise_chain.convert_to_async_await(assignment_variable_name=assignment_variable_name, inplace_edit=False)\n",
    "\n",
    "    if i < 10:\n",
    "        print(f\"converting {function_name} promise chain to async/await.\")\n",
    "\n",
    "    i += 1\n",
    "    # ---------- ADD TRY CATCH BLOCK INSTEAD OF CALLBACK HANDLER ----------\n",
    "    new_code = f\"\"\"\\\n",
    "        try {{\n",
    "            {async_await_code}\n",
    "\n",
    "            if (callback) {{\n",
    "                callback(null, {assignment_variable_name});\n",
    "            }}\n",
    "\n",
    "            return {assignment_variable_name};\n",
    "        }} catch(err: any) {{\n",
    "            if (callback) {{\n",
    "                callback(err);\n",
    "            }}\n",
    "            throw err;\n",
    "        }}\"\"\"\n",
    "\n",
    "    promise_statement.edit(new_code)\n",
    "\n",
    "    # ---------- CLEAN UP CALLBACK HANDLER ASSIGNMENT AND SUBSEQUENT RETURN STATEMENT ----------\n",
    "    statements = promise_statement.parent.get_statements()\n",
    "    return_stmt = next((stmt for stmt in statements if stmt.statement_type == StatementType.RETURN_STATEMENT), None)\n",
    "    assign_stmt = next((stmt for stmt in reversed(statements) if stmt.statement_type == StatementType.ASSIGNMENT), None)\n",
    "\n",
    "    if return_stmt:\n",
    "        return_stmt.remove()\n",
    "    if assign_stmt:\n",
    "        assign_stmt.remove()\n",
    "\n",
    "codebase.commit()"
   ]
  },
  {
   "cell_type": "markdown",
   "metadata": {},
   "source": [
    "After making the changes, ensure to run *`npx prettier --write .`* to format line indentation and linting errors."
   ]
  },
  {
   "cell_type": "code",
   "execution_count": null,
   "metadata": {},
   "outputs": [],
   "source": [
    "# reset the formatting\n",
    "codebase.reset()"
   ]
  },
  {
   "cell_type": "code",
   "execution_count": null,
   "metadata": {},
   "outputs": [],
   "source": [
    "codebase = Codebase(\"/Users/tawsifkamal/Documents/codegen-repos/twilio-node\", programming_language=ProgrammingLanguage.TYPESCRIPT)"
   ]
  }
 ],
 "metadata": {
  "kernelspec": {
   "display_name": ".venv",
   "language": "python",
   "name": "python3"
  },
  "language_info": {
   "codemirror_mode": {
    "name": "ipython",
    "version": 3
   },
   "file_extension": ".py",
   "mimetype": "text/x-python",
   "name": "python",
   "nbconvert_exporter": "python",
   "pygments_lexer": "ipython3",
   "version": "3.13.0"
  }
 },
 "nbformat": 4,
 "nbformat_minor": 2
}
